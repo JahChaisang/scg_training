{
 "cells": [
  {
   "cell_type": "code",
   "execution_count": 25,
   "metadata": {
    "collapsed": false
   },
   "outputs": [],
   "source": [
    "import pandas as pd\n",
    "\n",
    "df = pd.read_csv('./ml-100k/u.item', delimiter='|', dtype=str, encoding='latin-1', header=None)\n",
    "columns = (\"movie id | movie title | release date | video release date \"\n",
    "           \"| IMDb URL | unknown | Action | Adventure | Animation | Children's | \"\n",
    "           \"Comedy | Crime | Documentary | Drama | Fantasy | \"\n",
    "           \"Film-Noir | Horror | Musical | Mystery | Romance | Sci-Fi | \"\n",
    "           \"Thriller | War | Western\")\n",
    "df.columns = [c.strip() for c in columns.split('|')]\n",
    "df = df.drop(['release date', 'video release date', 'IMDb URL'], axis=1)"
   ]
  },
  {
   "cell_type": "code",
   "execution_count": 26,
   "metadata": {
    "collapsed": false
   },
   "outputs": [
    {
     "data": {
      "text/html": [
       "<div>\n",
       "<style>\n",
       "    .dataframe thead tr:only-child th {\n",
       "        text-align: right;\n",
       "    }\n",
       "\n",
       "    .dataframe thead th {\n",
       "        text-align: left;\n",
       "    }\n",
       "\n",
       "    .dataframe tbody tr th {\n",
       "        vertical-align: top;\n",
       "    }\n",
       "</style>\n",
       "<table border=\"1\" class=\"dataframe\">\n",
       "  <thead>\n",
       "    <tr style=\"text-align: right;\">\n",
       "      <th></th>\n",
       "      <th>movie id</th>\n",
       "      <th>movie title</th>\n",
       "      <th>unknown</th>\n",
       "      <th>Action</th>\n",
       "      <th>Adventure</th>\n",
       "      <th>Animation</th>\n",
       "      <th>Children's</th>\n",
       "      <th>Comedy</th>\n",
       "      <th>Crime</th>\n",
       "      <th>Documentary</th>\n",
       "      <th>...</th>\n",
       "      <th>Fantasy</th>\n",
       "      <th>Film-Noir</th>\n",
       "      <th>Horror</th>\n",
       "      <th>Musical</th>\n",
       "      <th>Mystery</th>\n",
       "      <th>Romance</th>\n",
       "      <th>Sci-Fi</th>\n",
       "      <th>Thriller</th>\n",
       "      <th>War</th>\n",
       "      <th>Western</th>\n",
       "    </tr>\n",
       "  </thead>\n",
       "  <tbody>\n",
       "    <tr>\n",
       "      <th>0</th>\n",
       "      <td>1</td>\n",
       "      <td>Toy Story (1995)</td>\n",
       "      <td>0</td>\n",
       "      <td>0</td>\n",
       "      <td>0</td>\n",
       "      <td>1</td>\n",
       "      <td>1</td>\n",
       "      <td>1</td>\n",
       "      <td>0</td>\n",
       "      <td>0</td>\n",
       "      <td>...</td>\n",
       "      <td>0</td>\n",
       "      <td>0</td>\n",
       "      <td>0</td>\n",
       "      <td>0</td>\n",
       "      <td>0</td>\n",
       "      <td>0</td>\n",
       "      <td>0</td>\n",
       "      <td>0</td>\n",
       "      <td>0</td>\n",
       "      <td>0</td>\n",
       "    </tr>\n",
       "    <tr>\n",
       "      <th>1</th>\n",
       "      <td>2</td>\n",
       "      <td>GoldenEye (1995)</td>\n",
       "      <td>0</td>\n",
       "      <td>1</td>\n",
       "      <td>1</td>\n",
       "      <td>0</td>\n",
       "      <td>0</td>\n",
       "      <td>0</td>\n",
       "      <td>0</td>\n",
       "      <td>0</td>\n",
       "      <td>...</td>\n",
       "      <td>0</td>\n",
       "      <td>0</td>\n",
       "      <td>0</td>\n",
       "      <td>0</td>\n",
       "      <td>0</td>\n",
       "      <td>0</td>\n",
       "      <td>0</td>\n",
       "      <td>1</td>\n",
       "      <td>0</td>\n",
       "      <td>0</td>\n",
       "    </tr>\n",
       "    <tr>\n",
       "      <th>2</th>\n",
       "      <td>3</td>\n",
       "      <td>Four Rooms (1995)</td>\n",
       "      <td>0</td>\n",
       "      <td>0</td>\n",
       "      <td>0</td>\n",
       "      <td>0</td>\n",
       "      <td>0</td>\n",
       "      <td>0</td>\n",
       "      <td>0</td>\n",
       "      <td>0</td>\n",
       "      <td>...</td>\n",
       "      <td>0</td>\n",
       "      <td>0</td>\n",
       "      <td>0</td>\n",
       "      <td>0</td>\n",
       "      <td>0</td>\n",
       "      <td>0</td>\n",
       "      <td>0</td>\n",
       "      <td>1</td>\n",
       "      <td>0</td>\n",
       "      <td>0</td>\n",
       "    </tr>\n",
       "    <tr>\n",
       "      <th>3</th>\n",
       "      <td>4</td>\n",
       "      <td>Get Shorty (1995)</td>\n",
       "      <td>0</td>\n",
       "      <td>1</td>\n",
       "      <td>0</td>\n",
       "      <td>0</td>\n",
       "      <td>0</td>\n",
       "      <td>1</td>\n",
       "      <td>0</td>\n",
       "      <td>0</td>\n",
       "      <td>...</td>\n",
       "      <td>0</td>\n",
       "      <td>0</td>\n",
       "      <td>0</td>\n",
       "      <td>0</td>\n",
       "      <td>0</td>\n",
       "      <td>0</td>\n",
       "      <td>0</td>\n",
       "      <td>0</td>\n",
       "      <td>0</td>\n",
       "      <td>0</td>\n",
       "    </tr>\n",
       "    <tr>\n",
       "      <th>4</th>\n",
       "      <td>5</td>\n",
       "      <td>Copycat (1995)</td>\n",
       "      <td>0</td>\n",
       "      <td>0</td>\n",
       "      <td>0</td>\n",
       "      <td>0</td>\n",
       "      <td>0</td>\n",
       "      <td>0</td>\n",
       "      <td>1</td>\n",
       "      <td>0</td>\n",
       "      <td>...</td>\n",
       "      <td>0</td>\n",
       "      <td>0</td>\n",
       "      <td>0</td>\n",
       "      <td>0</td>\n",
       "      <td>0</td>\n",
       "      <td>0</td>\n",
       "      <td>0</td>\n",
       "      <td>1</td>\n",
       "      <td>0</td>\n",
       "      <td>0</td>\n",
       "    </tr>\n",
       "  </tbody>\n",
       "</table>\n",
       "<p>5 rows × 21 columns</p>\n",
       "</div>"
      ],
      "text/plain": [
       "  movie id        movie title unknown Action Adventure Animation Children's  \\\n",
       "0        1   Toy Story (1995)       0      0         0         1          1   \n",
       "1        2   GoldenEye (1995)       0      1         1         0          0   \n",
       "2        3  Four Rooms (1995)       0      0         0         0          0   \n",
       "3        4  Get Shorty (1995)       0      1         0         0          0   \n",
       "4        5     Copycat (1995)       0      0         0         0          0   \n",
       "\n",
       "  Comedy Crime Documentary   ...   Fantasy Film-Noir Horror Musical Mystery  \\\n",
       "0      1     0           0   ...         0         0      0       0       0   \n",
       "1      0     0           0   ...         0         0      0       0       0   \n",
       "2      0     0           0   ...         0         0      0       0       0   \n",
       "3      1     0           0   ...         0         0      0       0       0   \n",
       "4      0     1           0   ...         0         0      0       0       0   \n",
       "\n",
       "  Romance Sci-Fi Thriller War Western  \n",
       "0       0      0        0   0       0  \n",
       "1       0      0        1   0       0  \n",
       "2       0      0        1   0       0  \n",
       "3       0      0        0   0       0  \n",
       "4       0      0        1   0       0  \n",
       "\n",
       "[5 rows x 21 columns]"
      ]
     },
     "execution_count": 26,
     "metadata": {},
     "output_type": "execute_result"
    }
   ],
   "source": [
    "df.head()"
   ]
  },
  {
   "cell_type": "code",
   "execution_count": 35,
   "metadata": {
    "collapsed": false
   },
   "outputs": [],
   "source": [
    "from sklearn.cluster import KMeans\n",
    "x = df.drop(['movie id', 'movie title'], axis=1)\n",
    "model = KMeans(n_clusters=10, random_state=0).fit(x)"
   ]
  },
  {
   "cell_type": "code",
   "execution_count": 36,
   "metadata": {
    "collapsed": false
   },
   "outputs": [],
   "source": [
    "y = model.predict(x)"
   ]
  },
  {
   "cell_type": "code",
   "execution_count": 37,
   "metadata": {
    "collapsed": false
   },
   "outputs": [
    {
     "data": {
      "text/plain": [
       "array([9, 2, 2, ..., 6, 1, 5], dtype=int32)"
      ]
     },
     "execution_count": 37,
     "metadata": {},
     "output_type": "execute_result"
    }
   ],
   "source": [
    "y"
   ]
  },
  {
   "cell_type": "code",
   "execution_count": 38,
   "metadata": {
    "collapsed": true
   },
   "outputs": [],
   "source": [
    "from sklearn.metrics import silhouette_samples, silhouette_score\n",
    "silhouette_avg = silhouette_score(x, y)"
   ]
  },
  {
   "cell_type": "code",
   "execution_count": 39,
   "metadata": {
    "collapsed": false
   },
   "outputs": [
    {
     "data": {
      "text/plain": [
       "0.44638017494147997"
      ]
     },
     "execution_count": 39,
     "metadata": {},
     "output_type": "execute_result"
    }
   ],
   "source": [
    "silhouette_avg"
   ]
  },
  {
   "cell_type": "code",
   "execution_count": 40,
   "metadata": {
    "collapsed": false
   },
   "outputs": [
    {
     "data": {
      "text/plain": [
       "array([[  1.26582278e-02,   0.00000000e+00,  -1.94289029e-16,\n",
       "          1.89873418e-02,  -1.38777878e-16,   9.43689571e-16,\n",
       "          1.13924051e-01,   2.91139241e-01,   9.99200722e-16,\n",
       "          6.32911392e-03,   5.06329114e-02,   2.91139241e-01,\n",
       "          3.16455696e-02,   5.06329114e-02,  -4.99600361e-16,\n",
       "          8.86075949e-02,   0.00000000e+00,   4.43037975e-02,\n",
       "          8.22784810e-02],\n",
       "       [  6.50521303e-19,   5.17799353e-02,   3.23624595e-03,\n",
       "          1.29449838e-02,   9.38511327e-02,   1.00000000e+00,\n",
       "          2.58899676e-02,   3.23624595e-03,   6.66133815e-16,\n",
       "          1.29449838e-02,   3.46944695e-18,   3.55987055e-02,\n",
       "          3.23624595e-02,   1.94174757e-02,  -6.38378239e-16,\n",
       "          2.26537217e-02,   1.61812298e-02,   2.58899676e-02,\n",
       "          2.26537217e-02],\n",
       "       [ -5.20417043e-18,   4.17112299e-01,   8.02139037e-02,\n",
       "          1.06951872e-02,   5.34759358e-03,   1.60427807e-02,\n",
       "          1.28342246e-01,   5.89805982e-17,   6.41711230e-02,\n",
       "         -1.73472348e-18,   7.48663102e-02,   1.01604278e-01,\n",
       "         -3.46944695e-17,   1.60427807e-01,   8.02139037e-02,\n",
       "          1.44385027e-01,   1.00000000e+00,   2.13903743e-02,\n",
       "          6.93889390e-18],\n",
       "       [  6.50521303e-19,   3.37078652e-02,   1.12359551e-02,\n",
       "          2.42861287e-17,   2.24719101e-02,   1.00000000e+00,\n",
       "          4.49438202e-02,   0.00000000e+00,   1.00000000e+00,\n",
       "         -1.73472348e-18,  -2.08166817e-17,  -6.93889390e-17,\n",
       "          1.12359551e-02,   1.12359551e-02,   1.23595506e-01,\n",
       "         -4.85722573e-17,   1.12359551e-02,   2.24719101e-02,\n",
       "         -2.77555756e-17],\n",
       "       [  6.50521303e-19,   6.89655172e-02,   9.13793103e-01,\n",
       "          3.44827586e-02,   7.58620690e-01,   8.62068966e-02,\n",
       "         -9.71445147e-17,   3.12250226e-17,   8.62068966e-02,\n",
       "          1.89655172e-01,  -1.04083409e-17,  -5.55111512e-17,\n",
       "          3.44827586e-02,   2.77555756e-17,   1.03448276e-01,\n",
       "          1.03448276e-01,   0.00000000e+00,   5.17241379e-02,\n",
       "          3.46944695e-18],\n",
       "       [ -4.98732999e-18,   4.71698113e-02,   7.54716981e-03,\n",
       "         -2.74086309e-16,   2.26415094e-02,   2.55351296e-15,\n",
       "          7.16981132e-02,   5.66037736e-03,   1.00000000e+00,\n",
       "          7.54716981e-03,   3.77358491e-03,   9.43396226e-03,\n",
       "          1.50943396e-02,   1.69811321e-02,   5.55111512e-16,\n",
       "          1.32075472e-02,   8.30188679e-02,   5.09433962e-02,\n",
       "          7.54716981e-03],\n",
       "       [ -8.67361738e-19,   4.20168067e-02,   8.40336134e-03,\n",
       "          2.77555756e-17,  -9.71445147e-17,   1.66533454e-16,\n",
       "          3.36134454e-02,  -3.12250226e-17,   7.22689076e-01,\n",
       "         -1.73472348e-18,  -2.60208521e-17,   8.40336134e-03,\n",
       "          3.36134454e-02,   1.68067227e-02,   1.00000000e+00,\n",
       "         -4.85722573e-17,   3.36134454e-02,   8.40336134e-02,\n",
       "          8.40336134e-03],\n",
       "       [  6.50521303e-19,   2.35294118e-02,   2.35294118e-02,\n",
       "          1.17647059e-02,   1.17647059e-02,   1.00000000e+00,\n",
       "         -1.38777878e-16,   6.93889390e-18,   6.66133815e-16,\n",
       "          1.17647059e-02,  -1.90819582e-17,  -6.24500451e-17,\n",
       "          8.23529412e-02,   2.35294118e-02,   1.00000000e+00,\n",
       "          1.17647059e-02,   4.70588235e-02,   1.17647059e-02,\n",
       "         -2.42861287e-17],\n",
       "       [ -8.67361738e-19,   1.00000000e+00,   4.74576271e-01,\n",
       "          8.47457627e-03,   3.38983051e-02,   8.47457627e-02,\n",
       "          1.10169492e-01,  -3.12250226e-17,   2.54237288e-02,\n",
       "          8.47457627e-03,  -2.60208521e-17,   8.47457627e-02,\n",
       "          1.69491525e-02,   2.54237288e-02,   8.47457627e-02,\n",
       "          3.30508475e-01,   5.08474576e-02,   7.62711864e-02,\n",
       "          1.69491525e-02],\n",
       "       [  6.50521303e-19,   0.00000000e+00,   6.89655172e-02,\n",
       "          1.00000000e+00,   1.00000000e+00,   1.37931034e-01,\n",
       "          0.00000000e+00,  -1.04083409e-17,  -2.22044605e-16,\n",
       "         -1.73472348e-18,   8.67361738e-18,  -2.77555756e-17,\n",
       "          5.86206897e-01,  -6.93889390e-18,   3.44827586e-02,\n",
       "         -4.16333634e-17,   0.00000000e+00,   2.08166817e-17,\n",
       "          3.46944695e-18]])"
      ]
     },
     "execution_count": 40,
     "metadata": {},
     "output_type": "execute_result"
    }
   ],
   "source": [
    "model.cluster_centers_"
   ]
  },
  {
   "cell_type": "code",
   "execution_count": null,
   "metadata": {
    "collapsed": true
   },
   "outputs": [],
   "source": []
  }
 ],
 "metadata": {
  "anaconda-cloud": {},
  "kernelspec": {
   "display_name": "Python [default]",
   "language": "python",
   "name": "python3"
  },
  "language_info": {
   "codemirror_mode": {
    "name": "ipython",
    "version": 3
   },
   "file_extension": ".py",
   "mimetype": "text/x-python",
   "name": "python",
   "nbconvert_exporter": "python",
   "pygments_lexer": "ipython3",
   "version": "3.5.2"
  }
 },
 "nbformat": 4,
 "nbformat_minor": 1
}
